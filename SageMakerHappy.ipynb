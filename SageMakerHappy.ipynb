{
 "cells": [
  {
   "cell_type": "code",
   "execution_count": 1,
   "id": "18ac3958-4d4d-4a16-81e3-770ec766f5fc",
   "metadata": {
    "tags": []
   },
   "outputs": [
    {
     "name": "stdout",
     "output_type": "stream",
     "text": [
      "sagemaker.config INFO - Not applying SDK defaults from location: /etc/xdg/sagemaker/config.yaml\n",
      "sagemaker.config INFO - Not applying SDK defaults from location: /home/ec2-user/.config/sagemaker/config.yaml\n"
     ]
    }
   ],
   "source": [
    "import sagemaker, boto3, json\n",
    "from sagemaker import get_execution_role\n",
    "\n",
    "aws_role = get_execution_role()\n",
    "aws_region = boto3.Session().region_name\n",
    "sess = sagemaker.Session()"
   ]
  },
  {
   "cell_type": "code",
   "execution_count": 3,
   "id": "65e2b18b-b38d-446f-b91f-f1a078e5d48f",
   "metadata": {
    "tags": []
   },
   "outputs": [
    {
     "name": "stdout",
     "output_type": "stream",
     "text": [
      "----!"
     ]
    },
    {
     "data": {
      "text/plain": [
       "[{'entity': 'Person_Name',\n",
       "  'score': 0.8258283734321594,\n",
       "  'index': 4,\n",
       "  'word': 'Sarah',\n",
       "  'start': 11,\n",
       "  'end': 16},\n",
       " {'entity': 'Person_Name',\n",
       "  'score': 0.8314036130905151,\n",
       "  'index': 5,\n",
       "  'word': 'Jessica',\n",
       "  'start': 17,\n",
       "  'end': 24},\n",
       " {'entity': 'Person_Name',\n",
       "  'score': 0.849219560623169,\n",
       "  'index': 6,\n",
       "  'word': 'Parker',\n",
       "  'start': 25,\n",
       "  'end': 31},\n",
       " {'entity': 'Person_Name',\n",
       "  'score': 0.7736506462097168,\n",
       "  'index': 12,\n",
       "  'word': 'Jessica',\n",
       "  'start': 52,\n",
       "  'end': 59},\n",
       " {'entity': 'location',\n",
       "  'score': 0.7681230306625366,\n",
       "  'index': 17,\n",
       "  'word': 'College',\n",
       "  'start': 74,\n",
       "  'end': 81},\n",
       " {'entity': 'location',\n",
       "  'score': 0.6825906038284302,\n",
       "  'index': 18,\n",
       "  'word': 'Park',\n",
       "  'start': 82,\n",
       "  'end': 86}]"
      ]
     },
     "execution_count": 3,
     "metadata": {},
     "output_type": "execute_result"
    }
   ],
   "source": [
    "import sagemaker\n",
    "import boto3\n",
    "from sagemaker.huggingface import HuggingFaceModel\n",
    "\n",
    "try:\n",
    "    role = sagemaker.get_execution_role()\n",
    "except ValueError:\n",
    "    iam = boto3.client('iam')\n",
    "    role = iam.get_role(RoleName='sagemaker_execution_role')['Role']['Arn']\n",
    "\n",
    "# Hugging Face Model configuration. https://huggingface.co/models\n",
    "hub = {\n",
    "    'HF_MODEL_ID': 'mdarhri00/named-entity-recognition',\n",
    "    'HF_TASK': 'token-classification'\n",
    "}\n",
    "\n",
    "# Create Hugging Face Model Class\n",
    "huggingface_model = HuggingFaceModel(\n",
    "    transformers_version='4.26.0',\n",
    "    pytorch_version='1.13.1',\n",
    "    py_version='py39',\n",
    "    env=hub,\n",
    "    role=role,\n",
    ")\n",
    "\n",
    "# Deploy model to SageMaker Inference\n",
    "predictor = huggingface_model.deploy(\n",
    "    initial_instance_count=1,  # Number of instances\n",
    "    instance_type='ml.m5.xlarge'  # EC2 instance type\n",
    ")\n",
    "\n",
    "# Make a prediction using the deployed model\n",
    "predictor.predict({\n",
    "    \"inputs\": \"My name is Sarah Jessica Parker but you can call me Jessica and I live in College Park\",\n",
    "})\n",
    "\n",
    "#choppy results so could make a code that if entity is the same for two things with neighboring indexes, could that as one location or person name\n",
    "\n",
    "#NOTE for error regarding (ResourceLimitExceeded) you have to go to SageMaker and search \"increase quota\" then search \"ml.m5.xlarge\" and request more quotas each time. Then re-run the code."
   ]
  },
  {
   "cell_type": "code",
   "execution_count": null,
   "id": "9d1c3ee8-5f0a-4976-acb1-c3cf7a7e92bf",
   "metadata": {},
   "outputs": [],
   "source": []
  }
 ],
 "metadata": {
  "kernelspec": {
   "display_name": "conda_python3",
   "language": "python",
   "name": "conda_python3"
  },
  "language_info": {
   "codemirror_mode": {
    "name": "ipython",
    "version": 3
   },
   "file_extension": ".py",
   "mimetype": "text/x-python",
   "name": "python",
   "nbconvert_exporter": "python",
   "pygments_lexer": "ipython3",
   "version": "3.10.13"
  }
 },
 "nbformat": 4,
 "nbformat_minor": 5
}
