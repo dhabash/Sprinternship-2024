{
 "cells": [
  {
   "cell_type": "code",
   "execution_count": null,
   "metadata": {},
   "outputs": [],
   "source": [
    "#installing spaCy\n",
    "!pip3 install -U pip setuptools wheel\n",
    "!pip3 install -U spacy\n",
    "!python3 -m spacy download en_core_web_trf\n",
    "!python3 -m spacy download en_core_web_sm\n",
    "!python3 -m pip install spacy-transformers\n",
    "!python -m pip install --upgrade spacy\n"
   ]
  },
  {
   "cell_type": "code",
   "execution_count": 7,
   "metadata": {},
   "outputs": [
    {
     "name": "stdout",
     "output_type": "stream",
     "text": [
      "Results saved to: /Users/mpatel53/Documents/GitHub/whpool_batch_to_csv/data/SpaCy_output_dicts/body-000_result_SpaCy.txt\n",
      "Results saved to: /Users/mpatel53/Documents/GitHub/whpool_batch_to_csv/data/SpaCy_output_dicts/body-001_result_SpaCy.txt\n",
      "Results saved to: /Users/mpatel53/Documents/GitHub/whpool_batch_to_csv/data/SpaCy_output_dicts/body-004_result_SpaCy.txt\n",
      "Results saved to: /Users/mpatel53/Documents/GitHub/whpool_batch_to_csv/data/SpaCy_output_dicts/body-005_result_SpaCy.txt\n",
      "Results saved to: /Users/mpatel53/Documents/GitHub/whpool_batch_to_csv/data/SpaCy_output_dicts/body-002_result_SpaCy.txt\n",
      "Results saved to: /Users/mpatel53/Documents/GitHub/whpool_batch_to_csv/data/SpaCy_output_dicts/body-003_result_SpaCy.txt\n"
     ]
    }
   ],
   "source": [
    "import spacy\n",
    "#allows iteration of the files in the input folder so that everything with a .txt or .html ending can be analyzed/read\n",
    "import glob\n",
    "#to make it easier to read and process\n",
    "import json\n",
    "\n",
    "# Load English tokenizer, tagger, parser, and NER\n",
    "nlp = spacy.load(\"en_core_web_sm\") #If you want ACCURACY but less results use \"n_core_web_sm\" and if you want EFFICIENCY use \"n_core_web_sm\" here\n",
    "\n",
    "# Specify the folder path containing HTML or TXT files\n",
    "input_folder_path = \"/Users/mpatel53/Documents/GitHub/whpool_batch_to_csv/data/API_testdata\" #CHANGE BASED ON LOCAL FOLDER\n",
    "#USER SHOULD set up an output folder for each month of emails prior to running the code\n",
    "output_folder_path = \"/Users/mpatel53/Documents/GitHub/whpool_batch_to_csv/data/SpaCy_output_dicts\" #CHANGE BASED ON LOCAL FOLDER\n",
    "\n",
    "# Iterate over files in the input folder using glob to get both .txt and .html\n",
    "for file_path in glob.glob(f\"{input_folder_path}/*.txt\") + glob.glob(f\"{input_folder_path}/*.html\"):\n",
    "    # Read text from the file\n",
    "        #utf-8 is said to be flexible and good for lots of different language structures\n",
    "    with open(file_path, \"r\", encoding=\"utf-8\") as file:\n",
    "        text = file.read()\n",
    "\n",
    "    # Process the text\n",
    "    doc = nlp(text)\n",
    "\n",
    "    # Initialize dictionaries to store entities for people in the emails and locations mentioned\n",
    "    result_dict = {'person': [], 'location': []}\n",
    "\n",
    "    # Find named entities in each file and only focus on people and locations\n",
    "    for entity in doc.ents:\n",
    "        if entity.label_ == 'PERSON':\n",
    "            result_dict['person'].append(entity.text)\n",
    "            #GPE means location\n",
    "        elif entity.label_ == 'GPE':\n",
    "            result_dict['location'].append(entity.text)\n",
    "\n",
    "    # Create the output file path that saves each result as the name of the input file + _result_SpaCy.txt into the output folder\n",
    "    output_file_path = f\"{output_folder_path}/{file_path.split('/')[-1].split('.')[0]}_result_SpaCy.txt\"\n",
    "\n",
    "    # Save the result dictionary as JSON in the output file\n",
    "    with open(output_file_path, 'w', encoding='utf-8') as output_file:\n",
    "        #use to make it more readable \n",
    "        json.dump(result_dict, output_file, ensure_ascii=False, indent=4)\n",
    "#show user that the results have been saved to the output folder\n",
    "    print(f\"Results saved to: {output_file_path}\")\n"
   ]
  }
 ],
 "metadata": {
  "kernelspec": {
   "display_name": "Python 3",
   "language": "python",
   "name": "python3"
  },
  "language_info": {
   "codemirror_mode": {
    "name": "ipython",
    "version": 3
   },
   "file_extension": ".py",
   "mimetype": "text/x-python",
   "name": "python",
   "nbconvert_exporter": "python",
   "pygments_lexer": "ipython3",
   "version": "3.11.7"
  }
 },
 "nbformat": 4,
 "nbformat_minor": 2
}
